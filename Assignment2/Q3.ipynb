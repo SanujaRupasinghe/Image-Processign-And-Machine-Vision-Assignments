{
 "cells": [
  {
   "cell_type": "code",
   "execution_count": 1,
   "metadata": {},
   "outputs": [],
   "source": [
    "import cv2\n",
    "import numpy as np\n",
    "import matplotlib.pyplot as plt\n",
    "from scipy.optimize import minimize\n",
    "from scipy import linalg"
   ]
  },
  {
   "cell_type": "code",
   "execution_count": 2,
   "metadata": {},
   "outputs": [
    {
     "name": "stdout",
     "output_type": "stream",
     "text": [
      "Point selected: 229, 207\n",
      "Point selected: 393, 76\n",
      "Point selected: 521, 166\n",
      "Point selected: 377, 414\n"
     ]
    }
   ],
   "source": [
    "# List to store selected points\n",
    "selected_points = []\n",
    "\n",
    "# Mouse callback function to capture points\n",
    "def select_points(event, x, y, flags, param):\n",
    "    if event == cv2.EVENT_LBUTTONDOWN:  # Left click\n",
    "        selected_points.append((x, y))\n",
    "        print(f\"Point selected: {x}, {y}\")\n",
    "        if len(selected_points) == 4:\n",
    "            cv2.destroyAllWindows()  # Close the window once 4 points are selected\n",
    "\n",
    "def superimpose_flag(arch_image, flag_image_path, points):\n",
    "    # Load the flag image\n",
    "    flag_image = cv2.imread(flag_image_path)\n",
    "\n",
    "    # Dimensions of the flag image\n",
    "    h_flag, w_flag = flag_image.shape[:2]\n",
    "\n",
    "    # Define the source points (corners of the flag)\n",
    "    src_pts = np.array([[0, 0], [w_flag, 0], [w_flag, h_flag], [0, h_flag]], dtype=np.float32)\n",
    "\n",
    "    # Define the destination points (selected points on the architectural image)\n",
    "    dst_pts = np.array(points, dtype=np.float32)\n",
    "\n",
    "    # Compute the homography matrix\n",
    "    H, _ = cv2.findHomography(src_pts, dst_pts)\n",
    "\n",
    "    # Warp the flag image to fit the planar surface in the architectural image\n",
    "    warped_flag = cv2.warpPerspective(flag_image, H, (arch_image.shape[1], arch_image.shape[0]))\n",
    "\n",
    "    # Create a mask of the warped flag (for blending)\n",
    "    mask = np.zeros_like(arch_image, dtype=np.uint8)\n",
    "    cv2.fillConvexPoly(mask, np.int32(dst_pts), (255, 255, 255))\n",
    "\n",
    "    # Invert the mask for the background\n",
    "    inverted_mask = cv2.bitwise_not(mask)\n",
    "\n",
    "    # Blend the images: First remove the region from the architectural image, then add the warped flag\n",
    "    arch_image_bg = cv2.bitwise_and(arch_image, inverted_mask)\n",
    "    blended_image = cv2.add(arch_image_bg, warped_flag)\n",
    "\n",
    "    # Return or display the final blended image\n",
    "    return blended_image\n",
    "\n",
    "# Example usage:\n",
    "# flag_image_path = 'Images/flag.png'\n",
    "# arch_image_path = 'Images/005.jpg'\n",
    "\n",
    "\n",
    "# Example usage:\n",
    "# flag_image_path = 'Images/download.png'\n",
    "# arch_image_path = 'Images/Highway.jpg'\n",
    "\n",
    "# Example usage:\n",
    "flag_image_path = 'Images/cocacola.jpg'\n",
    "arch_image_path = 'Images/tower.jpeg'\n",
    "\n",
    "\n",
    "# Load the architectural image\n",
    "arch_image = cv2.imread(arch_image_path)\n",
    "\n",
    "# \n",
    "\n",
    "# Display the image and select points manually\n",
    "cv2.imshow('Select 4 Points on the Architectural Image', arch_image)\n",
    "cv2.setMouseCallback('Select 4 Points on the Architectural Image', select_points)\n",
    "\n",
    "# Wait until 4 points are selected\n",
    "cv2.waitKey(0)\n",
    "\n",
    "# Check if 4 points were selected\n",
    "if len(selected_points) != 4:\n",
    "    print(\"Error: You must select exactly 4 points.\")\n",
    "    exit()\n",
    "\n",
    "# Superimpose the flag with the selected points\n",
    "result_image = superimpose_flag(arch_image, flag_image_path, selected_points)\n",
    "\n",
    "# Display the result\n",
    "cv2.imshow('Superimposed Flag', result_image)\n",
    "cv2.waitKey(0)\n",
    "cv2.destroyAllWindows()\n"
   ]
  }
 ],
 "metadata": {
  "kernelspec": {
   "display_name": ".venv",
   "language": "python",
   "name": "python3"
  },
  "language_info": {
   "codemirror_mode": {
    "name": "ipython",
    "version": 3
   },
   "file_extension": ".py",
   "mimetype": "text/x-python",
   "name": "python",
   "nbconvert_exporter": "python",
   "pygments_lexer": "ipython3",
   "version": "3.11.2"
  }
 },
 "nbformat": 4,
 "nbformat_minor": 2
}
